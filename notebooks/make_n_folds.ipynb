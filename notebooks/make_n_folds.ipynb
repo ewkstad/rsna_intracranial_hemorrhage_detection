{
 "cells": [
  {
   "cell_type": "code",
   "execution_count": 1,
   "metadata": {},
   "outputs": [],
   "source": [
    "import pandas as pd\n",
    "import numpy as np\n",
    "import operator\n",
    "from tqdm import tqdm\n"
   ]
  },
  {
   "cell_type": "code",
   "execution_count": 2,
   "metadata": {},
   "outputs": [],
   "source": [
    "ROOT_DIR = \"C:/Users/evbruh/Downloads/rsna-intracranial-hemorrhage-detection/\"\n",
    "ALL_DF_PATH = ROOT_DIR + 'all_df.p'\n",
    "TRAIN_DF_PATH = ROOT_DIR + 'train_df.p'\n",
    "VAL_DF_PATH = ROOT_DIR + 'val_df.p'\n",
    "batch_size = 32\n"
   ]
  },
  {
   "cell_type": "code",
   "execution_count": 3,
   "metadata": {
    "scrolled": true
   },
   "outputs": [
    {
     "data": {
      "text/html": [
       "<div>\n",
       "<style scoped>\n",
       "    .dataframe tbody tr th:only-of-type {\n",
       "        vertical-align: middle;\n",
       "    }\n",
       "\n",
       "    .dataframe tbody tr th {\n",
       "        vertical-align: top;\n",
       "    }\n",
       "\n",
       "    .dataframe thead tr th {\n",
       "        text-align: left;\n",
       "    }\n",
       "</style>\n",
       "<table border=\"1\" class=\"dataframe\">\n",
       "  <thead>\n",
       "    <tr>\n",
       "      <th></th>\n",
       "      <th>ID</th>\n",
       "      <th colspan=\"6\" halign=\"left\">Label</th>\n",
       "      <th>filepath</th>\n",
       "    </tr>\n",
       "    <tr>\n",
       "      <th>Subtype</th>\n",
       "      <th></th>\n",
       "      <th>none</th>\n",
       "      <th>epidural</th>\n",
       "      <th>intraparenchymal</th>\n",
       "      <th>intraventricular</th>\n",
       "      <th>subarachnoid</th>\n",
       "      <th>subdural</th>\n",
       "      <th></th>\n",
       "    </tr>\n",
       "  </thead>\n",
       "  <tbody>\n",
       "    <tr>\n",
       "      <td>0</td>\n",
       "      <td>ID_fd3c840c9</td>\n",
       "      <td>0</td>\n",
       "      <td>0</td>\n",
       "      <td>1</td>\n",
       "      <td>0</td>\n",
       "      <td>1</td>\n",
       "      <td>0</td>\n",
       "      <td>C:/Users/evbruh/Downloads/rsna-intracranial-he...</td>\n",
       "    </tr>\n",
       "    <tr>\n",
       "      <td>1</td>\n",
       "      <td>ID_07389b816</td>\n",
       "      <td>1</td>\n",
       "      <td>0</td>\n",
       "      <td>0</td>\n",
       "      <td>0</td>\n",
       "      <td>0</td>\n",
       "      <td>0</td>\n",
       "      <td>C:/Users/evbruh/Downloads/rsna-intracranial-he...</td>\n",
       "    </tr>\n",
       "    <tr>\n",
       "      <td>2</td>\n",
       "      <td>ID_e3ac06794</td>\n",
       "      <td>0</td>\n",
       "      <td>0</td>\n",
       "      <td>0</td>\n",
       "      <td>0</td>\n",
       "      <td>1</td>\n",
       "      <td>0</td>\n",
       "      <td>C:/Users/evbruh/Downloads/rsna-intracranial-he...</td>\n",
       "    </tr>\n",
       "    <tr>\n",
       "      <td>3</td>\n",
       "      <td>ID_b6200a7a1</td>\n",
       "      <td>1</td>\n",
       "      <td>0</td>\n",
       "      <td>0</td>\n",
       "      <td>0</td>\n",
       "      <td>0</td>\n",
       "      <td>0</td>\n",
       "      <td>C:/Users/evbruh/Downloads/rsna-intracranial-he...</td>\n",
       "    </tr>\n",
       "    <tr>\n",
       "      <td>4</td>\n",
       "      <td>ID_e192b2995</td>\n",
       "      <td>1</td>\n",
       "      <td>0</td>\n",
       "      <td>0</td>\n",
       "      <td>0</td>\n",
       "      <td>0</td>\n",
       "      <td>0</td>\n",
       "      <td>C:/Users/evbruh/Downloads/rsna-intracranial-he...</td>\n",
       "    </tr>\n",
       "    <tr>\n",
       "      <td>5</td>\n",
       "      <td>ID_4ae953e81</td>\n",
       "      <td>0</td>\n",
       "      <td>0</td>\n",
       "      <td>0</td>\n",
       "      <td>0</td>\n",
       "      <td>0</td>\n",
       "      <td>1</td>\n",
       "      <td>C:/Users/evbruh/Downloads/rsna-intracranial-he...</td>\n",
       "    </tr>\n",
       "    <tr>\n",
       "      <td>6</td>\n",
       "      <td>ID_3b713f439</td>\n",
       "      <td>1</td>\n",
       "      <td>0</td>\n",
       "      <td>0</td>\n",
       "      <td>0</td>\n",
       "      <td>0</td>\n",
       "      <td>0</td>\n",
       "      <td>C:/Users/evbruh/Downloads/rsna-intracranial-he...</td>\n",
       "    </tr>\n",
       "    <tr>\n",
       "      <td>7</td>\n",
       "      <td>ID_594f2d851</td>\n",
       "      <td>1</td>\n",
       "      <td>0</td>\n",
       "      <td>0</td>\n",
       "      <td>0</td>\n",
       "      <td>0</td>\n",
       "      <td>0</td>\n",
       "      <td>C:/Users/evbruh/Downloads/rsna-intracranial-he...</td>\n",
       "    </tr>\n",
       "    <tr>\n",
       "      <td>8</td>\n",
       "      <td>ID_4b0d1e312</td>\n",
       "      <td>1</td>\n",
       "      <td>0</td>\n",
       "      <td>0</td>\n",
       "      <td>0</td>\n",
       "      <td>0</td>\n",
       "      <td>0</td>\n",
       "      <td>C:/Users/evbruh/Downloads/rsna-intracranial-he...</td>\n",
       "    </tr>\n",
       "    <tr>\n",
       "      <td>9</td>\n",
       "      <td>ID_4076b3899</td>\n",
       "      <td>1</td>\n",
       "      <td>0</td>\n",
       "      <td>0</td>\n",
       "      <td>0</td>\n",
       "      <td>0</td>\n",
       "      <td>0</td>\n",
       "      <td>C:/Users/evbruh/Downloads/rsna-intracranial-he...</td>\n",
       "    </tr>\n",
       "  </tbody>\n",
       "</table>\n",
       "</div>"
      ],
      "text/plain": [
       "                   ID Label                                             \\\n",
       "Subtype                none epidural intraparenchymal intraventricular   \n",
       "0        ID_fd3c840c9     0        0                1                0   \n",
       "1        ID_07389b816     1        0                0                0   \n",
       "2        ID_e3ac06794     0        0                0                0   \n",
       "3        ID_b6200a7a1     1        0                0                0   \n",
       "4        ID_e192b2995     1        0                0                0   \n",
       "5        ID_4ae953e81     0        0                0                0   \n",
       "6        ID_3b713f439     1        0                0                0   \n",
       "7        ID_594f2d851     1        0                0                0   \n",
       "8        ID_4b0d1e312     1        0                0                0   \n",
       "9        ID_4076b3899     1        0                0                0   \n",
       "\n",
       "                               \\\n",
       "Subtype subarachnoid subdural   \n",
       "0                  1        0   \n",
       "1                  0        0   \n",
       "2                  1        0   \n",
       "3                  0        0   \n",
       "4                  0        0   \n",
       "5                  0        1   \n",
       "6                  0        0   \n",
       "7                  0        0   \n",
       "8                  0        0   \n",
       "9                  0        0   \n",
       "\n",
       "                                                  filepath  \n",
       "Subtype                                                     \n",
       "0        C:/Users/evbruh/Downloads/rsna-intracranial-he...  \n",
       "1        C:/Users/evbruh/Downloads/rsna-intracranial-he...  \n",
       "2        C:/Users/evbruh/Downloads/rsna-intracranial-he...  \n",
       "3        C:/Users/evbruh/Downloads/rsna-intracranial-he...  \n",
       "4        C:/Users/evbruh/Downloads/rsna-intracranial-he...  \n",
       "5        C:/Users/evbruh/Downloads/rsna-intracranial-he...  \n",
       "6        C:/Users/evbruh/Downloads/rsna-intracranial-he...  \n",
       "7        C:/Users/evbruh/Downloads/rsna-intracranial-he...  \n",
       "8        C:/Users/evbruh/Downloads/rsna-intracranial-he...  \n",
       "9        C:/Users/evbruh/Downloads/rsna-intracranial-he...  "
      ]
     },
     "execution_count": 3,
     "metadata": {},
     "output_type": "execute_result"
    }
   ],
   "source": [
    "all_df = pd.read_pickle(ALL_DF_PATH)\n",
    "all_df.head(10)"
   ]
  },
  {
   "cell_type": "code",
   "execution_count": 4,
   "metadata": {},
   "outputs": [
    {
     "name": "stderr",
     "output_type": "stream",
     "text": [
      "100%|██████████| 5/5 [00:17<00:00,  3.43s/it]\n"
     ]
    }
   ],
   "source": [
    "n_folds = 5\n",
    "fold_size = int(all_df.shape[0]*(1-1/n_folds))\n",
    "for n_fold in tqdm(range(n_folds)):\n",
    "    \n",
    "    s_ind = int(n_fold*(1/n_folds)*all_df.shape[0])\n",
    "    \n",
    "    train_df_inds = np.arange(s_ind, s_ind + fold_size)%all_df.shape[0]\n",
    "    train_df = all_df.loc[train_df_inds]\n",
    "    train_df = train_df[:train_df.shape[0]-train_df.shape[0]%batch_size]\n",
    "    \n",
    "    val_df_inds = np.delete(np.arange(all_df.shape[0]), train_df_inds)\n",
    "    val_df = all_df.loc[val_df_inds]\n",
    "    val_df = val_df[:val_df.shape[0]-val_df.shape[0]%batch_size]\n",
    "    \n",
    "    labels = list(train_df.Label.columns)\n",
    "    original_counts = dict(train_df.Label.sum(axis=0))\n",
    "    major_class, major_class_count = max(original_counts.items(), key=operator.itemgetter(1))\n",
    "    minor_classes_counts = {x:original_counts[x] for x in labels if x is not major_class}\n",
    "    minor_classes_count = sum(minor_classes_counts.values())\n",
    "    ratio = major_class_count/minor_classes_count\n",
    "    new_minor_classes_counts = {x:int(original_counts[x]*ratio) for x in minor_classes_counts}\n",
    "    new_counts = {**{major_class:major_class_count}, **new_minor_classes_counts}\n",
    "    class_dfs = {x:train_df[train_df.Label[x]==1] for x in labels}\n",
    "    for x in labels:\n",
    "        if x is major_class:\n",
    "            class_dfs[x] = class_dfs[x]\n",
    "        else:\n",
    "            class_dfs[x] = class_dfs[x].sample(new_counts[x], replace=True)\n",
    "    \n",
    "    train_df = pd.concat([class_dfs[x] for x in labels])\n",
    "    train_df.index = np.arange(train_df.shape[0]).astype('int64')\n",
    "    train_df = train_df.reindex(np.random.permutation(train_df.index))\n",
    "    train_df.index = np.arange(train_df.shape[0]).astype('int64')\n",
    "    \n",
    "    train_df.to_pickle(TRAIN_DF_PATH[:-2] + '_fold_{}'.format(n_fold) + TRAIN_DF_PATH[-2:])\n",
    "    val_df.to_pickle(VAL_DF_PATH[:-2] + '_fold_{}'.format(n_fold) + VAL_DF_PATH[-2:])\n",
    "\n",
    "    "
   ]
  },
  {
   "cell_type": "code",
   "execution_count": 9,
   "metadata": {},
   "outputs": [
    {
     "data": {
      "text/plain": [
       "'C:/Users/evbruh/Downloads/rsna-intracranial-hemorrhage-detection/train_df_fold_4.p'"
      ]
     },
     "execution_count": 9,
     "metadata": {},
     "output_type": "execute_result"
    }
   ],
   "source": [
    "TRAIN_DF_PATH[:-2] + '_fold_{}'.format(n_fold) + TRAIN_DF_PATH[-2:]"
   ]
  },
  {
   "cell_type": "code",
   "execution_count": 10,
   "metadata": {},
   "outputs": [
    {
     "data": {
      "text/plain": [
       "'C:/Users/evbruh/Downloads/rsna-intracranial-hemorrhage-detection/val_df_fold_4.p'"
      ]
     },
     "execution_count": 10,
     "metadata": {},
     "output_type": "execute_result"
    }
   ],
   "source": [
    "VAL_DF_PATH[:-2] + '_fold_{}'.format(n_fold) + VAL_DF_PATH[-2:]"
   ]
  },
  {
   "cell_type": "code",
   "execution_count": 7,
   "metadata": {},
   "outputs": [
    {
     "data": {
      "text/plain": [
       "(array([539191, 539192, 539193, ..., 404390, 404391, 404392], dtype=int32),\n",
       " (539191,))"
      ]
     },
     "execution_count": 7,
     "metadata": {},
     "output_type": "execute_result"
    }
   ],
   "source": [
    "train_df_inds, train_df_inds.shape"
   ]
  },
  {
   "cell_type": "code",
   "execution_count": 8,
   "metadata": {},
   "outputs": [
    {
     "data": {
      "text/plain": [
       "(array([404393, 404394, 404395, ..., 539188, 539189, 539190]), (134798,))"
      ]
     },
     "execution_count": 8,
     "metadata": {},
     "output_type": "execute_result"
    }
   ],
   "source": [
    "val_df_inds, val_df_inds.shape"
   ]
  },
  {
   "cell_type": "code",
   "execution_count": 11,
   "metadata": {},
   "outputs": [
    {
     "data": {
      "text/plain": [
       "((923186, 8), (134784, 8))"
      ]
     },
     "execution_count": 11,
     "metadata": {},
     "output_type": "execute_result"
    }
   ],
   "source": [
    "train_df.shape, val_df.shape"
   ]
  },
  {
   "cell_type": "code",
   "execution_count": null,
   "metadata": {},
   "outputs": [],
   "source": []
  }
 ],
 "metadata": {
  "kernelspec": {
   "display_name": "Python 3",
   "language": "python",
   "name": "python3"
  },
  "language_info": {
   "codemirror_mode": {
    "name": "ipython",
    "version": 3
   },
   "file_extension": ".py",
   "mimetype": "text/x-python",
   "name": "python",
   "nbconvert_exporter": "python",
   "pygments_lexer": "ipython3",
   "version": "3.7.4"
  }
 },
 "nbformat": 4,
 "nbformat_minor": 2
}
