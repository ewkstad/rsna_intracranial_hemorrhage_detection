{
 "cells": [
  {
   "cell_type": "code",
   "execution_count": null,
   "metadata": {},
   "outputs": [],
   "source": [
    "\n",
    "import re\n",
    "import os\n",
    "import pydicom\n",
    "import operator\n",
    "import pandas as pd\n",
    "import numpy as np\n"
   ]
  },
  {
   "cell_type": "code",
   "execution_count": null,
   "metadata": {},
   "outputs": [],
   "source": [
    "ROOT_DIR = \"C:/Users/evbruh/Downloads/rsna-intracranial-hemorrhage-detection/\"\n",
    "TRAIN_DIR = ROOT_DIR + 'stage_1_train_images'\n",
    "TEST_DIR = ROOT_DIR + 'stage_1_test_images'\n",
    "ALL_DF_PATH = ROOT_DIR + 'all_df.p'\n",
    "TRAIN_DF_PATH = ROOT_DIR + 'train_df.p'\n",
    "VAL_DF_PATH = ROOT_DIR + 'val_df.p'\n",
    "batch_size = 32\n"
   ]
  },
  {
   "cell_type": "code",
   "execution_count": null,
   "metadata": {},
   "outputs": [],
   "source": [
    "\n",
    "def fix_id(img_id, img_dir=TRAIN_DIR):\n",
    "    if not re.match(r'ID_[a-z0-9]+', img_id):\n",
    "        sop = re.search(r'[a-z0-9]+', img_id)\n",
    "        if sop:\n",
    "            img_id_new = f'ID_{sop[0]}'\n",
    "            return img_id_new\n",
    "        else:\n",
    "            print(img_id)\n",
    "    return img_id\n",
    "\n",
    "\n",
    "def id_to_filepath(img_id, img_dir=TRAIN_DIR):\n",
    "    filepath = f'{img_dir}/{img_id}.dcm'  # pydicom doesn't play nice with Path objects\n",
    "    if os.path.exists(filepath):\n",
    "        return filepath\n",
    "    else:\n",
    "        return 'DNE'\n",
    "\n",
    "\n",
    "def get_patient_data(filepath):\n",
    "    if filepath != 'DNE':\n",
    "        dcm_data = pydicom.dcmread(filepath, stop_before_pixels=True)\n",
    "        return dcm_data.PatientID, dcm_data.StudyInstanceUID, dcm_data.SeriesInstanceUID\n"
   ]
  },
  {
   "cell_type": "code",
   "execution_count": null,
   "metadata": {},
   "outputs": [],
   "source": [
    "\n",
    "all_df = pd.read_csv(ROOT_DIR + 'stage_1_train.csv')\n",
    "all_df[['ID', 'Subtype']] = all_df['ID'].str.rsplit(pat='_', n=1, expand=True)\n",
    "all_df['ID'] = all_df['ID'].apply(fix_id)\n",
    "all_df = all_df.pivot_table(index='ID', columns='Subtype').reset_index()\n",
    "all_df['Label', 'none'] = ((all_df.Label['any'].values + 1)%2)\n",
    "all_df['filepath'] = all_df['ID'].apply(id_to_filepath)\n",
    "all_df = all_df[[('ID',                    ''),\n",
    "                 ('Label',             'none'),\n",
    "                 ('Label',         'epidural'),\n",
    "                 ('Label', 'intraparenchymal'),\n",
    "                 ('Label', 'intraventricular'),\n",
    "                 ('Label',     'subarachnoid'),\n",
    "                 ('Label',         'subdural'),\n",
    "                 ('filepath',              '')]]\n",
    "all_df.to_pickle(ALL_DF_PATH)\n"
   ]
  }
 ],
 "metadata": {
  "kernelspec": {
   "display_name": "Python 3",
   "language": "python",
   "name": "python3"
  },
  "language_info": {
   "codemirror_mode": {
    "name": "ipython",
    "version": 3
   },
   "file_extension": ".py",
   "mimetype": "text/x-python",
   "name": "python",
   "nbconvert_exporter": "python",
   "pygments_lexer": "ipython3",
   "version": "3.7.4"
  }
 },
 "nbformat": 4,
 "nbformat_minor": 2
}
